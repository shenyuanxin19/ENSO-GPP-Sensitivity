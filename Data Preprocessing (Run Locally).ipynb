{
 "cells": [
  {
   "cell_type": "markdown",
   "id": "3b4819de-5b30-48f1-a900-b38da7a7449d",
   "metadata": {},
   "source": [
    "The selected data files are quite large, so this data preprocessing was carried out on a local computer."
   ]
  },
  {
   "cell_type": "markdown",
   "id": "704c5e9c-4d05-469b-a75a-49fbb4bf92ec",
   "metadata": {},
   "source": [
    "**Import libraries**\n"
   ]
  },
  {
   "cell_type": "code",
   "execution_count": 2,
   "id": "777e32bb-b711-4f61-be4f-67d963b441f2",
   "metadata": {
    "tags": []
   },
   "outputs": [
    {
     "name": "stdout",
     "output_type": "stream",
     "text": [
      "D:\\miniconda\\envs\\research\\python.exe\n"
     ]
    }
   ],
   "source": [
    "import sys\n",
    "print(sys.executable)\n",
    "import numpy as np\n",
    "import xarray as xr\n",
    "from pathlib import Path\n",
    "import requests\n",
    "from tqdm import tqdm"
   ]
  },
  {
   "cell_type": "markdown",
   "id": "34d6fed2-6e1d-499b-8c37-6e533ef2ea96",
   "metadata": {},
   "source": [
    "**1. Data Download**"
   ]
  },
  {
   "cell_type": "code",
   "execution_count": 2,
   "id": "e90b5414-d5de-4926-a27f-6f66d22546f1",
   "metadata": {
    "tags": []
   },
   "outputs": [
    {
     "name": "stdout",
     "output_type": "stream",
     "text": [
      "Downloading: gpp_Lmon_IPSL-CM6A-LR_abrupt-4xCO2_r1i1p1f1_gr_185001-214912.nc\n"
     ]
    },
    {
     "name": "stderr",
     "output_type": "stream",
     "text": [
      "gpp_Lmon_IPSL-CM6A-LR_abrupt-4xCO2_r1i1p1f1_gr_185001-214912.nc: 100%|████████████| 86.2M/86.2M [00:53<00:00, 1.63MB/s]\n"
     ]
    },
    {
     "name": "stdout",
     "output_type": "stream",
     "text": [
      "Downloading: tos_Omon_IPSL-CM6A-LR_abrupt-4xCO2_r1i1p1f1_gn_185001-214912.nc\n"
     ]
    },
    {
     "name": "stderr",
     "output_type": "stream",
     "text": [
      "tos_Omon_IPSL-CM6A-LR_abrupt-4xCO2_r1i1p1f1_gn_185001-214912.nc: 100%|██████████████| 770M/770M [09:41<00:00, 1.32MB/s]\n"
     ]
    },
    {
     "name": "stdout",
     "output_type": "stream",
     "text": [
      "Downloading: pr_Amon_IPSL-CM6A-LR_abrupt-4xCO2_r1i1p1f1_gr_185001-214912.nc\n"
     ]
    },
    {
     "name": "stderr",
     "output_type": "stream",
     "text": [
      "pr_Amon_IPSL-CM6A-LR_abrupt-4xCO2_r1i1p1f1_gr_185001-214912.nc: 100%|███████████████| 243M/243M [02:21<00:00, 1.72MB/s]\n"
     ]
    },
    {
     "name": "stdout",
     "output_type": "stream",
     "text": [
      "Downloading: tas_Amon_IPSL-CM6A-LR_abrupt-4xCO2_r1i1p1f1_gr_185001-214912.nc\n"
     ]
    },
    {
     "name": "stderr",
     "output_type": "stream",
     "text": [
      "tas_Amon_IPSL-CM6A-LR_abrupt-4xCO2_r1i1p1f1_gr_185001-214912.nc: 100%|██████████████| 175M/175M [01:53<00:00, 1.55MB/s]\n"
     ]
    },
    {
     "name": "stdout",
     "output_type": "stream",
     "text": [
      "Downloading: gpp_Lmon_IPSL-CM6A-LR_G1_r1i1p1f1_gr_185001-194912.nc\n"
     ]
    },
    {
     "name": "stderr",
     "output_type": "stream",
     "text": [
      "gpp_Lmon_IPSL-CM6A-LR_G1_r1i1p1f1_gr_185001-194912.nc: 100%|██████████████████████| 27.4M/27.4M [00:22<00:00, 1.22MB/s]\n"
     ]
    },
    {
     "name": "stdout",
     "output_type": "stream",
     "text": [
      "Downloading: tos_Omon_IPSL-CM6A-LR_G1_r1i1p1f1_gn_185001-194912.nc\n"
     ]
    },
    {
     "name": "stderr",
     "output_type": "stream",
     "text": [
      "tos_Omon_IPSL-CM6A-LR_G1_r1i1p1f1_gn_185001-194912.nc: 100%|████████████████████████| 238M/238M [02:51<00:00, 1.39MB/s]\n"
     ]
    },
    {
     "name": "stdout",
     "output_type": "stream",
     "text": [
      "Downloading: pr_Amon_IPSL-CM6A-LR_G1_r1i1p1f1_gr_185001-194912.nc\n"
     ]
    },
    {
     "name": "stderr",
     "output_type": "stream",
     "text": [
      "pr_Amon_IPSL-CM6A-LR_G1_r1i1p1f1_gr_185001-194912.nc: 100%|███████████████████████| 79.0M/79.0M [00:45<00:00, 1.73MB/s]\n"
     ]
    },
    {
     "name": "stdout",
     "output_type": "stream",
     "text": [
      "Downloading: tas_Amon_IPSL-CM6A-LR_G1_r1i1p1f1_gr_185001-194912.nc\n"
     ]
    },
    {
     "name": "stderr",
     "output_type": "stream",
     "text": [
      "tas_Amon_IPSL-CM6A-LR_G1_r1i1p1f1_gr_185001-194912.nc: 100%|██████████████████████| 57.8M/57.8M [00:36<00:00, 1.60MB/s]\n"
     ]
    },
    {
     "name": "stdout",
     "output_type": "stream",
     "text": [
      "Downloading: gpp_Lmon_IPSL-CM6A-LR_piControl_r1i1p1f1_gr_185001-234912.nc\n",
      "Failed: 502 Server Error: Bad Gateway for url: http://vesg.ipsl.upmc.fr/thredds/fileServer/cmip6/CMIP/IPSL/IPSL-CM6A-LR/piControl/r1i1p1f1/Lmon/gpp/gr/v20200326/gpp_Lmon_IPSL-CM6A-LR_piControl_r1i1p1f1_gr_185001-234912.nc\n",
      "Downloading: tos_Omon_IPSL-CM6A-LR_piControl_r1i1p1f1_gn_185001-234912.nc\n"
     ]
    },
    {
     "name": "stderr",
     "output_type": "stream",
     "text": [
      "tos_Omon_IPSL-CM6A-LR_piControl_r1i1p1f1_gn_185001-234912.nc:  21%|███▌             | 253M/1.19G [04:28<16:32, 941kB/s]"
     ]
    },
    {
     "name": "stdout",
     "output_type": "stream",
     "text": [
      "Failed: HTTPSConnectionPool(host='esgf.ceda.ac.uk', port=443): Read timed out.\n",
      "Done\n"
     ]
    },
    {
     "name": "stderr",
     "output_type": "stream",
     "text": [
      "\n"
     ]
    }
   ],
   "source": [
    "data_dir = Path(r\"D:\\cangku\\data\")\n",
    "data_dir.mkdir(parents=True, exist_ok=True)\n",
    "\n",
    "urls = {\n",
    "    \"gpp_4xCO2\": \"https://esgf.ceda.ac.uk/thredds/fileServer/esg_cmip6/CMIP6/CMIP/IPSL/IPSL-CM6A-LR/abrupt-4xCO2/r1i1p1f1/Lmon/gpp/gr/v20190118/gpp_Lmon_IPSL-CM6A-LR_abrupt-4xCO2_r1i1p1f1_gr_185001-214912.nc\",\n",
    "    \"tos_4xCO2\": \"https://esgf.ceda.ac.uk/thredds/fileServer/esg_cmip6/CMIP6/CMIP/IPSL/IPSL-CM6A-LR/abrupt-4xCO2/r1i1p1f1/Omon/tos/gn/v20190118/tos_Omon_IPSL-CM6A-LR_abrupt-4xCO2_r1i1p1f1_gn_185001-214912.nc\",\n",
    "    \"pr_4xCO2\": \"https://esgf.ceda.ac.uk/thredds/fileServer/esg_cmip6/CMIP6/CMIP/IPSL/IPSL-CM6A-LR/abrupt-4xCO2/r1i1p1f1/Amon/pr/gr/v20190118/pr_Amon_IPSL-CM6A-LR_abrupt-4xCO2_r1i1p1f1_gr_185001-214912.nc\",\n",
    "    \"tas_4xCO2\": \"https://esgf.ceda.ac.uk/thredds/fileServer/esg_cmip6/CMIP6/CMIP/IPSL/IPSL-CM6A-LR/abrupt-4xCO2/r1i1p1f1/Amon/tas/gr/v20190118/tas_Amon_IPSL-CM6A-LR_abrupt-4xCO2_r1i1p1f1_gr_185001-214912.nc\",\n",
    "    \"gpp_G1\": \"https://esgf.ceda.ac.uk/thredds/fileServer/esg_cmip6/CMIP6/GeoMIP/IPSL/IPSL-CM6A-LR/G1/r1i1p1f1/Lmon/gpp/gr/v20180729/gpp_Lmon_IPSL-CM6A-LR_G1_r1i1p1f1_gr_185001-194912.nc\",\n",
    "    \"tos_G1\": \"https://esgf.ceda.ac.uk/thredds/fileServer/esg_cmip6/CMIP6/GeoMIP/IPSL/IPSL-CM6A-LR/G1/r1i1p1f1/Omon/tos/gn/v20180729/tos_Omon_IPSL-CM6A-LR_G1_r1i1p1f1_gn_185001-194912.nc\",\n",
    "    \"pr_G1\": \"https://esgf.ceda.ac.uk/thredds/fileServer/esg_cmip6/CMIP6/GeoMIP/IPSL/IPSL-CM6A-LR/G1/r1i1p1f1/Amon/pr/gr/v20180729/pr_Amon_IPSL-CM6A-LR_G1_r1i1p1f1_gr_185001-194912.nc\",\n",
    "    \"tas_G1\": \"https://esgf.ceda.ac.uk/thredds/fileServer/esg_cmip6/CMIP6/GeoMIP/IPSL/IPSL-CM6A-LR/G1/r1i1p1f1/Amon/tas/gr/v20180729/tas_Amon_IPSL-CM6A-LR_G1_r1i1p1f1_gr_185001-194912.nc\",\n",
    "    \"gpp_piC\": \"http://vesg.ipsl.upmc.fr/thredds/fileServer/cmip6/CMIP/IPSL/IPSL-CM6A-LR/piControl/r1i1p1f1/Lmon/gpp/gr/v20200326/gpp_Lmon_IPSL-CM6A-LR_piControl_r1i1p1f1_gr_185001-234912.nc\",\n",
    "    \"tos_piC\": \"https://esgf.ceda.ac.uk/thredds/fileServer/esg_cmip6/CMIP6/CMIP/IPSL/IPSL-CM6A-LR/piControl/r1i1p1f1/Omon/tos/gn/v20200326/tos_Omon_IPSL-CM6A-LR_piControl_r1i1p1f1_gn_185001-234912.nc\",\n",
    "}\n",
    "\n",
    "urls = {\n",
    "    \"gpp_4xCO2\": \"http://esgf3.dkrz.de/thredds/fileServer/cmip6/CMIP/CCCma/CanESM5/abrupt-4xCO2/r1i1p2f1/Lmon/gpp/gn/v20190429/gpp_Lmon_CanESM5_abrupt-4xCO2_r1i1p2f1_gn_185001-200012.nc\",\n",
    "    \"tos_4xCO2\": \"https://esgf.ceda.ac.uk/thredds/fileServer/esg_cmip6/CMIP6/CMIP/CCCma/CanESM5/abrupt-4xCO2/r1i1p1f1/Omon/tos/gn/v20190429/tos_Omon_CanESM5_abrupt-4xCO2_r1i1p1f1_gn_185001-200012.nc\",\n",
    "    \"pr_4xCO2\": \"https://esgf.ceda.ac.uk/thredds/fileServer/esg_cmip6/CMIP6/CMIP/CCCma/CanESM5/abrupt-4xCO2/r1i1p2f1/Amon/pr/gn/v20190429/pr_Amon_CanESM5_abrupt-4xCO2_r1i1p2f1_gn_185001-200012.nc\",\n",
    "    \"tas_4xCO2\": \"https://esgf.ceda.ac.uk/thredds/fileServer/esg_cmip6/CMIP6/CMIP/CCCma/CanESM5/abrupt-4xCO2/r1i1p2f1/Amon/tas/gn/v20190429/tas_Amon_CanESM5_abrupt-4xCO2_r1i1p2f1_gn_185001-200012.nc\",\n",
    "    \"gpp_G1\": \"http://esgf3.dkrz.de/thredds/fileServer/cmip6/GeoMIP/CCCma/CanESM5/G1/r1i1p2f1/Lmon/gpp/gn/v20190429/gpp_Lmon_CanESM5_G1_r1i1p2f1_gn_185001-194912.nc\",\n",
    "    \"tos_G1\": \"https://esgf.ceda.ac.uk/thredds/fileServer/esg_cmip6/CMIP6/CMIP/CCCma/CanESM5/G1/r1i1p2f1/Omon/tos/gn/v20190429/tos_Omon_CanESM5_piControl_r1i1p2f1_gn_555001-560012.nc\",\n",
    "    \"pr_G1\": \"https://esgf.ceda.ac.uk/thredds/fileServer/esg_cmip6/CMIP6/GeoMIP/CCCma/CanESM5/G1/r1i1p2f1/Amon/pr/gn/v20190429/pr_Amon_CanESM5_G1_r1i1p2f1_gn_185001-194912.nc\",\n",
    "    \"tas_G1\": \"https://esgf.ceda.ac.uk/thredds/fileServer/esg_cmip6/CMIP6/GeoMIP/CCCma/CanESM5/G1/r1i1p2f1/Amon/tas/gn/v20190429/tas_Amon_CanESM5_G1_r1i1p2f1_gn_185001-194912.nc\",\n",
    "    \"gpp_piC\": \"http://esgf3.dkrz.de/thredds/fileServer/cmip6/CMIP/CCCma/CanESM5/piControl/r1i1p1f1/Lmon/gpp/gn/v20190429/gpp_Lmon_CanESM5_piControl_r1i1p1f1_gn_520101-540012.nc\",\n",
    "    \"tos_piC\": \"https://esgf.ceda.ac.uk/thredds/fileServer/esg_cmip6/CMIP6/CMIP/CCCma/CanESM5/piControl/r1i1p2f1/Omon/tos/gn/v20190429/tos_Omon_CanESM5_piControl_r1i1p2f1_gn_520101-540012.nc\",\n",
    "}\n",
    "\n",
    "def download(url, path):\n",
    "    with requests.get(url, stream=True, timeout=120) as r:\n",
    "        r.raise_for_status()\n",
    "        total = int(r.headers.get('content-length', 0))\n",
    "        with open(path, 'wb') as f, tqdm(total=total, unit='B', unit_scale=True, desc=path.name) as bar:\n",
    "            for chunk in r.iter_content(1024 * 1024):\n",
    "                f.write(chunk)\n",
    "                bar.update(len(chunk))\n",
    "\n",
    "for url in urls.values():\n",
    "    file = data_dir / url.split('/')[-1]\n",
    "    if not file.exists():\n",
    "        print(f\"Downloading: {file.name}\")\n",
    "        try:\n",
    "            download(url, file)\n",
    "        except Exception as e:\n",
    "            print(f\"Failed: {e}\")\n",
    "    else:\n",
    "        print(f\"Skipped: {file.name}\")\n",
    "\n",
    "print(\"Done\")"
   ]
  },
  {
   "cell_type": "markdown",
   "id": "78e11675-ae90-44c0-8a08-59a95e6a8224",
   "metadata": {},
   "source": [
    "Note: Since some data files are relatively large (over 1GB), the script download times out. So, we have chosen to manually download these files to the local computer's D drive."
   ]
  },
  {
   "cell_type": "markdown",
   "id": "ca422da0-fdbb-49a6-be50-0aa64a10304a",
   "metadata": {},
   "source": [
    "**2. Data Preprocessing:**\n",
    "\n",
    "We performed consistent preprocessing for all data files (GPP, tos, tas, pr). The steps included:\n",
    "\n",
    "2.1 Standardizing latitude and longitude names and ranges\n",
    "2.2 Linear interpolation onto a standard 1°×1° grid\n",
    "2.3 Cropping the time period to 1890–1949\n",
    "2.4 Removing long-term trends using linear detrending\n",
    "2.5 Spatial cropping according to study requirements (±5° for tos, ±40° for other variables)\n",
    "2.6 Saving the results as compressed NetCDF files (float32 format)\n",
    "\n",
    "The processed files are smaller in size, making them easier for later analysis."
   ]
  },
  {
   "cell_type": "code",
   "execution_count": 6,
   "id": "257760ba-2501-45ae-82bc-cab587832479",
   "metadata": {
    "tags": []
   },
   "outputs": [],
   "source": [
    "data_dir = Path(r\"D:\\cangku\\data\")\n",
    "\n",
    "# Files to process\n",
    "files = [\n",
    "    #gpp（abrupt-4xCO2，G1，piControl）\n",
    "    'gpp_Lmon_CanESM5_abrupt-4xCO2_r1i1p2f1_gn_185001-200012.nc',\n",
    "    'gpp_Lmon_CanESM5_G1_r1i1p2f1_gn_185001-194912.nc',\n",
    "    'gpp_Lmon_CanESM5_piControl_r1i1p2f1_gn_185001-194912.nc',\n",
    "    #tos（abrupt-4xCO2，G1，piControl）\n",
    "    \"tos_Omon_CanESM5_abrupt-4xCO2_r1i1p2f1_gn_185001-200012.nc\",\n",
    "    \"tos_Omon_CanESM5_G1_r1i1p2f1_gn_185001-194912.nc\",\n",
    "    \"tos_Omon_CanESM5_piControl_r1i1p2f1_gn_185001-194912.nc\",\n",
    "    #tas（abrupt-4xCO2，G1，piControl）\n",
    "    'tas_Amon_CanESM5_abrupt-4xCO2_185001-200012.nc',     \n",
    "    'tas_Amon_CanESM5_G1_r1i1p2f1_gn_185001-194912.nc',\n",
    "    #pr（abrupt-4xCO2，G1，piControl）\n",
    "    'pr_Amon_CanESM5_abrupt-4xCO2_185001-200012.nc',   \n",
    "    'pr_Amon_CanESM5_G1_r1i1p2f1_gn_185001-194912.nc',\n",
    "]"
   ]
  },
  {
   "cell_type": "code",
   "execution_count": 4,
   "id": "03038163-7601-40ab-8d7e-918d0c0c79f6",
   "metadata": {
    "tags": []
   },
   "outputs": [
    {
     "name": "stdout",
     "output_type": "stream",
     "text": [
      "\n",
      "Processing: gpp_Lmon_CanESM5_abrupt-4xCO2_r1i1p2f1_gn_185001-200012.nc\n",
      "  Cropped to ±40°\n",
      "  Saved: gpp_Lmon_CanESM5_abrupt-4xCO2_r1i1p2f1_gn_185001-200012_1x1_1890-1949_detrend.nc (shape: (720, 81, 360))\n",
      "\n",
      "Processing: gpp_Lmon_CanESM5_G1_r1i1p2f1_gn_185001-194912.nc\n",
      "  Cropped to ±40°\n",
      "  Saved: gpp_Lmon_CanESM5_G1_r1i1p2f1_gn_185001-194912_1x1_1890-1949_detrend.nc (shape: (720, 81, 360))\n",
      "\n",
      "Processing: gpp_Lmon_CanESM5_piControl_r1i1p2f1_gn_185001-194912.nc\n",
      "  Cropped to ±40°\n",
      "  Saved: gpp_Lmon_CanESM5_piControl_r1i1p2f1_gn_185001-194912_1x1_1890-1949_detrend.nc (shape: (720, 81, 360))\n",
      "\n",
      "Processing: tos_Omon_CanESM5_abrupt-4xCO2_r1i1p2f1_gn_185001-200012.nc\n",
      "  Cropped to ±5°\n",
      "  Saved: tos_Omon_CanESM5_abrupt-4xCO2_r1i1p2f1_gn_185001-200012_1x1_1890-1949_detrend.nc (shape: (720, 11, 360))\n",
      "\n",
      "Processing: tos_Omon_CanESM5_G1_r1i1p2f1_gn_185001-194912.nc\n",
      "  Cropped to ±5°\n",
      "  Saved: tos_Omon_CanESM5_G1_r1i1p2f1_gn_185001-194912_1x1_1890-1949_detrend.nc (shape: (720, 11, 360))\n",
      "\n",
      "Processing: tos_Omon_CanESM5_piControl_r1i1p2f1_gn_185001-194912.nc\n",
      "  Cropped to ±5°\n",
      "  Saved: tos_Omon_CanESM5_piControl_r1i1p2f1_gn_185001-194912_1x1_1890-1949_detrend.nc (shape: (720, 11, 360))\n",
      "\n",
      "Processing: tas_Amon_CanESM5_abrupt-4xCO2_185001-200012.nc\n",
      "  Cropped to ±40°\n",
      "  Saved: tas_Amon_CanESM5_abrupt-4xCO2_185001-200012_1x1_1890-1949_detrend.nc (shape: (720, 81, 360))\n",
      "\n",
      "Processing: tas_Amon_CanESM5_G1_r1i1p2f1_gn_185001-194912.nc\n",
      "  Cropped to ±40°\n",
      "  Saved: tas_Amon_CanESM5_G1_r1i1p2f1_gn_185001-194912_1x1_1890-1949_detrend.nc (shape: (720, 81, 360))\n",
      "\n",
      "Processing: pr_Amon_CanESM5_abrupt-4xCO2_185001-200012.nc\n",
      "  Cropped to ±40°\n",
      "  Saved: pr_Amon_CanESM5_abrupt-4xCO2_185001-200012_1x1_1890-1949_detrend.nc (shape: (720, 81, 360))\n",
      "\n",
      "Processing: pr_Amon_CanESM5_G1_r1i1p2f1_gn_185001-194912.nc\n",
      "  Cropped to ±40°\n",
      "  Saved: pr_Amon_CanESM5_G1_r1i1p2f1_gn_185001-194912_1x1_1890-1949_detrend.nc (shape: (720, 81, 360))\n",
      "All preprocessing completed\n"
     ]
    }
   ],
   "source": [
    "# Target grid: 1° × 1°\n",
    "lon_target = np.arange(0, 360, 1)\n",
    "lat_target = np.arange(-90, 90, 1)\n",
    "\n",
    "# Standardize lat/lon naming and convert to 0-360 range\n",
    "def standardize_coords(ds):\n",
    "    for lat_name in ['lat', 'latitude', 'nav_lat', 'y']:\n",
    "        if lat_name in ds:\n",
    "            ds = ds.rename({lat_name: 'lat'})\n",
    "            break\n",
    "    for lon_name in ['lon', 'longitude', 'nav_lon', 'x']:\n",
    "        if lon_name in ds:\n",
    "            ds = ds.rename({lon_name: 'lon'})\n",
    "            break\n",
    "    \n",
    "    # Handle 2D coordinates (tos data)\n",
    "    if ds['lon'].ndim == 2 and ds['lat'].ndim == 2:\n",
    "        lat_1d = ds['lat'][:, 0].values\n",
    "        lon_1d = ds['lon'][0, :].values\n",
    "        lon_1d = lon_1d % 360\n",
    "        ds = ds.drop_vars(['lon', 'lat'], errors='ignore')\n",
    "        ds = ds.rename({'j': 'lat', 'i': 'lon'})\n",
    "        ds = ds.assign_coords(lon=lon_1d, lat=lat_1d)\n",
    "    \n",
    "    ds['lon'] = ds['lon'] % 360\n",
    "    return ds.sortby('lon')\n",
    "\n",
    "\n",
    "# Linear detrending using least squares\n",
    "def detrend(data):\n",
    "    t, nlat, nlon = data.shape\n",
    "    time_idx = np.arange(t)\n",
    "    out = np.full_like(data, np.nan)\n",
    "    \n",
    "    for i in range(nlat):\n",
    "        for j in range(nlon):\n",
    "            y = data[:, i, j]\n",
    "            if np.isfinite(y).sum() < 2:\n",
    "                continue\n",
    "            p = np.polyfit(time_idx, y, 1)\n",
    "            out[:, i, j] = y - np.polyval(p, time_idx)\n",
    "    return out\n",
    "\n",
    "\n",
    "# Complete preprocessing pipeline for one file\n",
    "def process_file(file_path):\n",
    "    print(f\"\\nProcessing: {file_path.name}\")\n",
    "    \n",
    "    with xr.open_dataset(file_path) as ds:\n",
    "        var = file_path.name.split('_')[0]\n",
    "        if var not in ds:\n",
    "            var = list(ds.data_vars)[0]\n",
    "        \n",
    "        # Step.1 Standardize coordinates\n",
    "        ds = ds[[var, 'time']]\n",
    "        ds = standardize_coords(ds)\n",
    "        \n",
    "        # Step.2 Interpolate to 1° × 1°\n",
    "        ds = ds.interp(lon=lon_target, lat=lat_target, method='linear')\n",
    "        \n",
    "        # Step.3 Crop time to 1890-1949\n",
    "        ds = ds.sel(time=slice('1890-01', '1949-12'))\n",
    "        \n",
    "        # Step.4 Detrend\n",
    "        da = ds[var].astype('float64')\n",
    "        detrended = detrend(da.values)\n",
    "        da_dt = xr.DataArray(detrended, coords=da.coords, dims=da.dims, \n",
    "                            name=var, attrs=da.attrs)\n",
    "        \n",
    "        # Step.5 Crop spatial extent\n",
    "        if var == 'tos':\n",
    "            da_dt = da_dt.sel(lat=slice(-5, 5))\n",
    "            print(f\"  Cropped to ±5°\")\n",
    "        else:\n",
    "            da_dt = da_dt.sel(lat=slice(-40, 40))\n",
    "            print(f\"  Cropped to ±40°\")\n",
    "        \n",
    "        # Step.6 Save as compressed float32 for saving storage\n",
    "        da_dt = da_dt.astype('float32')\n",
    "        out_name = file_path.stem + '_1x1_1890-1949_detrend.nc'\n",
    "        out_path = data_dir / out_name\n",
    "        \n",
    "        encoding = {var: {'zlib': True, 'complevel': 4, 'dtype': 'f4'}}\n",
    "        da_dt.to_netcdf(out_path, encoding=encoding)\n",
    "        \n",
    "        print(f\"  Saved: {out_name} (shape: {da_dt.shape})\")\n",
    "\n",
    "\n",
    "# Run\n",
    "if __name__ == '__main__':\n",
    "    for fname in files:\n",
    "        fpath = data_dir / fname\n",
    "        if fpath.exists():\n",
    "            try:\n",
    "                process_file(fpath)\n",
    "            except Exception as e:\n",
    "                print(f\"  Error: {e}\")\n",
    "        else:\n",
    "            print(f\"\\nFile not found: {fname}\")\n",
    "    \n",
    "    print(\"All preprocessing completed\")"
   ]
  },
  {
   "cell_type": "code",
   "execution_count": 5,
   "id": "0ada288f-1889-4c23-8fae-8467abad1fa6",
   "metadata": {},
   "outputs": [
    {
     "name": "stdout",
     "output_type": "stream",
     "text": [
      "[finish] tas annual mean saved → tas_Amon_CanESM5_abrupt-4xCO2_185001-200012_1x1_1890-1949_detrend_annual_1890-1949.nc, shape=(60, 81, 360)\n",
      "[finish] tas annual mean saved → tas_Amon_CanESM5_G1_r1i1p2f1_gn_185001-194912_1x1_1890-1949_detrend_annual_1890-1949.nc, shape=(60, 81, 360)\n",
      "[finish] pr annual mean saved → pr_Amon_CanESM5_abrupt-4xCO2_185001-200012_1x1_1890-1949_detrend_annual_1890-1949.nc, shape=(60, 81, 360)\n",
      "[finish] pr annual mean saved → pr_Amon_CanESM5_G1_r1i1p2f1_gn_185001-194912_1x1_1890-1949_detrend_annual_1890-1949.nc, shape=(60, 81, 360)\n",
      " all finished \n"
     ]
    }
   ],
   "source": [
    "#Convert monthly temperature (tas) and precipitation (pr) data to annual mean values (1890–1949)\n",
    "\n",
    "DATA_DIR = Path(r'D:\\cangku\\data')\n",
    "\n",
    "TAS_FILES = {\n",
    "    'abrupt-4xCO2': 'tas_Amon_CanESM5_abrupt-4xCO2_185001-200012_1x1_1890-1949_detrend.nc',\n",
    "    'G1': 'tas_Amon_CanESM5_G1_r1i1p2f1_gn_185001-194912_1x1_1890-1949_detrend.nc',\n",
    "}\n",
    "\n",
    "PR_FILES = {\n",
    "    'abrupt-4xCO2': 'pr_Amon_CanESM5_abrupt-4xCO2_185001-200012_1x1_1890-1949_detrend.nc',\n",
    "    'G1': 'pr_Amon_CanESM5_G1_r1i1p2f1_gn_185001-194912_1x1_1890-1949_detrend.nc',\n",
    "}\n",
    "LAT_SLICE = slice(-40, 40)\n",
    "\n",
    "\n",
    "def _std_coords(ds):\n",
    "    if 'latitude' in ds.coords:\n",
    "        ds = ds.rename({'latitude': 'lat'})\n",
    "    if 'longitude' in ds.coords:\n",
    "        ds = ds.rename({'longitude': 'lon'})\n",
    "    if 'lon' in ds.coords and float(ds['lon'].min()) < 0:\n",
    "        ds = ds.assign_coords(lon=(ds['lon'] % 360)).sortby('lon')\n",
    "    return ds\n",
    "\n",
    "def compute_annual_mean_field(path: Path, varname: str):   \n",
    "    ds = xr.open_dataset(path)\n",
    "    ds = _std_coords(ds)\n",
    "\n",
    "    # Identify Variable\n",
    "    if varname not in ds.data_vars:\n",
    "        varname = list(ds.data_vars)[0]\n",
    "    da = ds[varname].sel(lat=LAT_SLICE)\n",
    "\n",
    "    # convert to annual mean\n",
    "    annual = da.resample(time='YS').mean().sel(time=slice('1890', '1949'))\n",
    "    annual = annual.astype('float32')\n",
    "\n",
    "    ds.close()\n",
    "    return annual\n",
    "\n",
    "\n",
    "def process_and_save(file_dict, varname):\n",
    "    for exp, fname in file_dict.items():\n",
    "        in_path = DATA_DIR / fname\n",
    "        da_ann = compute_annual_mean_field(in_path, varname)\n",
    "        out_name = fname.replace('.nc', '_annual_1890-1949.nc')\n",
    "        out_path = DATA_DIR / out_name\n",
    "        da_ann.to_netcdf(out_path)\n",
    "        print(f'[finish] {varname} annual mean saved → {out_path.name}, shape={da_ann.shape}')\n",
    "\n",
    "\n",
    "if __name__ == '__main__':\n",
    "    process_and_save(TAS_FILES, 'tas')\n",
    "    process_and_save(PR_FILES, 'pr')\n",
    "    print(' all finished ')\n"
   ]
  },
  {
   "cell_type": "code",
   "execution_count": null,
   "id": "8225496a-efd5-4646-ad4d-7871c158f699",
   "metadata": {},
   "outputs": [],
   "source": []
  }
 ],
 "metadata": {
  "kernelspec": {
   "display_name": "Python 3 (ipykernel)",
   "language": "python",
   "name": "python3"
  },
  "language_info": {
   "codemirror_mode": {
    "name": "ipython",
    "version": 3
   },
   "file_extension": ".py",
   "mimetype": "text/x-python",
   "name": "python",
   "nbconvert_exporter": "python",
   "pygments_lexer": "ipython3",
   "version": "3.10.18"
  }
 },
 "nbformat": 4,
 "nbformat_minor": 5
}
